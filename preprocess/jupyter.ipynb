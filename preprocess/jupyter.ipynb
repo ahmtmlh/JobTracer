{
 "cells": [
  {
   "cell_type": "code",
   "execution_count": 1,
   "metadata": {},
   "outputs": [],
   "source": [
    "import pandas as pd\n",
    "import sklearn\n",
    "import math\n",
    "import numpy as np"
   ]
  },
  {
   "cell_type": "code",
   "execution_count": 2,
   "metadata": {},
   "outputs": [
    {
     "name": "stdout",
     "output_type": "stream",
     "text": [
      "Reading data...\n",
      "Reading done!\n"
     ]
    }
   ],
   "source": [
    "filename = \"70K_IlanDatasi_wLi_230120.xlsx\"\n",
    "#filename = \"test_1.xlsx\"\n",
    "sheetName = \"Sheet1\"\n",
    "print(\"Reading data...\")\n",
    "dfFirst = pd.read_excel(filename, sheet_name = sheetName)\n",
    "print(\"Reading done!\")"
   ]
  },
  {
   "cell_type": "code",
   "execution_count": 3,
   "metadata": {},
   "outputs": [
    {
     "name": "stdout",
     "output_type": "stream",
     "text": [
      "Reading cities\n",
      "City reading is done.\n"
     ]
    }
   ],
   "source": [
    "print(\"Reading cities\")\n",
    "f = open(\"il.txt\", encoding=\"utf-8\")\n",
    "cities = f.read();\n",
    "cities = cities.split(\"\\n\")\n",
    "f.close();\n",
    "print(\"City reading is done.\")"
   ]
  },
  {
   "cell_type": "code",
   "execution_count": 9,
   "metadata": {},
   "outputs": [
    {
     "name": "stdout",
     "output_type": "stream",
     "text": [
      "Reading countries\n",
      "Country reading is done.\n"
     ]
    }
   ],
   "source": [
    "print(\"Reading countries\")\n",
    "f = open(\"ülkeler.txt\", encoding=\"utf-8\")\n",
    "countries = f.read();\n",
    "countries = countries.split(\"\\n\")\n",
    "f.close();\n",
    "print(\"Country reading is done.\")"
   ]
  },
  {
   "cell_type": "code",
   "execution_count": 4,
   "metadata": {},
   "outputs": [],
   "source": [
    "education_keywords = [\"Mezun\", \"Üniversite\", \"Lise\", \"Öğrenci\", \"Doktora\", \"Meslek\", \"Yüksekokul\"]"
   ]
  },
  {
   "cell_type": "code",
   "execution_count": 5,
   "metadata": {},
   "outputs": [],
   "source": [
    "#Function to apply \n",
    "def check_city_allowed(cities, x):\n",
    "    #First requirement\n",
    "    res1 = False;\n",
    "    for city in cities:\n",
    "        res1 = res1 or city in x or city.lower() in x.lower() or city.upper() in x.upper()\n",
    "    #Second requirement\n",
    "    res2 = (\"türkiye\" in x.lower())\n",
    "    #Third requirement\n",
    "    res3 = (x.strip() == \"\")\n",
    "    return res1 or res2 or res3"
   ]
  },
  {
   "cell_type": "code",
   "execution_count": 6,
   "metadata": {},
   "outputs": [],
   "source": [
    "def contains_country(countries, text):\n",
    "    for country in countries:\n",
    "        if country.lower() in text:\n",
    "            return country\n",
    "    return \"\";\n",
    "\n",
    "def look_for_country(df, countries):\n",
    "    rows_to_delete = []\n",
    "    for index, row in df.iterrows():\n",
    "        #If city is blank, try to fill it with the counrty info from the text.\n",
    "        #If not, delete that entry.\n",
    "        if row.iller == \" \":\n",
    "            country = contains_country(countries, row.metinTemiz.lower())\n",
    "            if country != \"\":\n",
    "                df.at[index, 'iller'] = country\n",
    "            else:\n",
    "                rows_to_delete.append(index)\n",
    "    if(len(rows_to_delete) != 0):\n",
    "        df.drop(rows_to_delete, inplace=True)\n",
    "    return df;"
   ]
  },
  {
   "cell_type": "code",
   "execution_count": 7,
   "metadata": {},
   "outputs": [],
   "source": [
    "def validate_education_status(keywords, x):\n",
    "    for keyword in keywords:\n",
    "        if keyword.lower() in x.lower():\n",
    "            return True\n",
    "    return False"
   ]
  },
  {
   "cell_type": "markdown",
   "metadata": {},
   "source": [
    "KURALLAR\n",
    "1. Numeric olması gereken alanlar (jobrefno, Tecrube, maxTecrube), eğer numeric değilse silinecek.\n",
    "2. Tecrübe puanı 40 üzeri olanlar 0 olarak değiştirilecek.\n",
    "3. Max Tecrube değişiklikleri:\n",
    "\n",
    "\ta. 0 ve 20 eşit ve üzeri olanlar 99 olarak değişecek\n",
    "    \n",
    "\tb. (MaxTecrube - Tecrube) <= Tecrube --> MaxTecrube = MaxTecrube + 3 şeklinde değiştir.\n",
    "4. İller alanı için saçma girdileri sil.\n",
    "\t\tSaçma Girdiler = {Boş olmayanlar, 81 ilden birini içermeyenler, Tüm Türkiye yazmayanlar}\n",
    "5. İller alanında boş olan veriler için temiz metin içerisinden farklı ülke bilgilerini\n",
    "\t kontrol et. Eğer metin içerisinde farklı bir ülke var ise iller alanını o ülke ile değiştir.\n",
    "6. Eğitim durumu bilgisi boş olan veriler silinecek\n",
    "7. Eğitim durumu bilgisinde keywordlerden birini içermeyen veriler sinilecek\n",
    "\tkeywords = [\"Mezun\", \"Üniversite\", \"Lise\", \"Öğrenci\", \"Doktora\", \"Meslek\", \"Yüksekokulu\"]"
   ]
  },
  {
   "cell_type": "code",
   "execution_count": 12,
   "metadata": {},
   "outputs": [
    {
     "name": "stdout",
     "output_type": "stream",
     "text": [
      "69569\n",
      "69565\n",
      "69377\n",
      "69377\n"
     ]
    }
   ],
   "source": [
    "df = dfFirst.copy()\n",
    "print(df.size//9)\n",
    "#Fill NaN values as blanks\n",
    "df = df.fillna(' ')\n",
    "#Apply Rule 1\n",
    "df = df[df.jobrefno.apply(lambda x : False if type(x) == str else True)]\n",
    "df = df[df.Tecrube.apply(lambda x : False if type(x) == str else True)]\n",
    "df = df[df.maxTecrube.apply(lambda x : False if type(x) == str else True)]\n",
    "#Apply Rule 2\n",
    "df.Tecrube = df.Tecrube.apply(lambda x : 0 if x > 40 else x)\n",
    "#Apply Rule 3\n",
    "df.maxTecrube = df.maxTecrube.apply(lambda x : 99 if x == 0 or x >= 20 else x)\n",
    "df.maxTecrube = df.apply(lambda x : x.maxTecrube+3 if x.maxTecrube-x.Tecrube <= x.Tecrube else x.maxTecrube, axis=1)\n",
    "# Apply Rule 4\n",
    "df = df[df.iller.apply(lambda x : check_city_allowed(cities, x))]\n",
    "print(df.size//9)\n",
    "#Apply Rule 5\n",
    "df = look_for_country(df, countries);\n",
    "print(df.size//9)\n",
    "#Apply Rule 6 and 7\n",
    "df = df[df.EgitimDurumuUzun.apply(lambda x : x != \" \")]\n",
    "df = df[df.EgitimDurumuUzun.apply(lambda x : validate_education_status(education_keywords, x))]\n",
    "print(df.size//9)"
   ]
  },
  {
   "cell_type": "code",
   "execution_count": 13,
   "metadata": {},
   "outputs": [
    {
     "name": "stdout",
     "output_type": "stream",
     "text": [
      "Exporting...\n",
      "Exporting done!\n"
     ]
    }
   ],
   "source": [
    "print(\"Exporting...\")\n",
    "df.to_excel(\"test.xlsx\", sheet_name = sheetName)\n",
    "print(\"Exporting done!\")"
   ]
  }
 ],
 "metadata": {
  "kernelspec": {
   "display_name": "Python 3",
   "language": "python",
   "name": "python3"
  },
  "language_info": {
   "codemirror_mode": {
    "name": "ipython",
    "version": 3
   },
   "file_extension": ".py",
   "mimetype": "text/x-python",
   "name": "python",
   "nbconvert_exporter": "python",
   "pygments_lexer": "ipython3",
   "version": "3.7.5"
  }
 },
 "nbformat": 4,
 "nbformat_minor": 4
}
